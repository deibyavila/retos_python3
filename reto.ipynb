{
  "nbformat": 4,
  "nbformat_minor": 0,
  "metadata": {
    "colab": {
      "name": "reto.ipynb",
      "provenance": [],
      "authorship_tag": "ABX9TyM4zzmbSMQDvF8xNCsHJH5N"
    },
    "kernelspec": {
      "name": "python3",
      "display_name": "Python 3"
    },
    "language_info": {
      "name": "python"
    }
  },
  "cells": [
    {
      "cell_type": "code",
      "source": [
        "from urllib.request import urlopen\n",
        "import pandas as pd\n",
        "import json\n",
        "from itertools import combinations\n",
        "\n",
        "URL = 'https://mach-eight.uc.r.appspot.com/'\n",
        "\n",
        "response = urlopen(URL)\n",
        "data_json = json.loads(response.read())\n",
        "h_in =   pd.DataFrame(data_json[\"values\"]).values.tolist()\n",
        "  \n",
        "def findPairs(lst, K):\n",
        " \n",
        "    res = []\n",
        "    for var in combinations(lst, 2):\n",
        "        if int(var[0][1]) + int(var[1][1]) == K:\n",
        "            res.append((var[0], var[1]))   \n",
        "    return res\n",
        "\n",
        "def printResult(res):\n",
        "    if len(res)==0:\n",
        "      print(\"No matches found\")\n",
        "    else:\n",
        "      for r in res:\n",
        "        print(r)\n",
        "\n",
        "if __name__ == '__main__':\n",
        "  print(\"Please input height to searches through NBA player pairs heights:\")\n",
        "  input_a = int(input())\n",
        "  printResult(findPairs(h_in, input_a))\n",
        " \n"
      ],
      "metadata": {
        "colab": {
          "base_uri": "https://localhost:8080/"
        },
        "id": "u6J0Bwx0mjfH",
        "outputId": "d3eceb6c-1ea6-458a-b6cb-c6004c3339dd"
      },
      "execution_count": 81,
      "outputs": [
        {
          "output_type": "stream",
          "name": "stdout",
          "text": [
            "Please input height to searches through NBA player pairs heights:\n",
            "138\n",
            "No matches found\n"
          ]
        }
      ]
    }
  ]
}